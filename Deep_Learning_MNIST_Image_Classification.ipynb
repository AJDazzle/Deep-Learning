{
  "nbformat": 4,
  "nbformat_minor": 0,
  "metadata": {
    "colab": {
      "provenance": []
    },
    "kernelspec": {
      "name": "python3",
      "display_name": "Python 3"
    },
    "language_info": {
      "name": "python"
    }
  },
  "cells": [
    {
      "cell_type": "code",
      "source": [
        "from tensorflow.keras.datasets import mnist"
      ],
      "metadata": {
        "id": "HHj4FMvn1GEJ"
      },
      "execution_count": 45,
      "outputs": []
    },
    {
      "cell_type": "code",
      "source": [
        "(x_train,y_train),(x_test,y_test)=mnist.load_data()"
      ],
      "metadata": {
        "id": "B9T8dr3u1RWO"
      },
      "execution_count": 46,
      "outputs": []
    },
    {
      "cell_type": "code",
      "source": [
        "x_train.shape"
      ],
      "metadata": {
        "colab": {
          "base_uri": "https://localhost:8080/"
        },
        "id": "u0fJMlrF10Tz",
        "outputId": "4e4a78cf-5199-4c2e-f285-e94a0d9a7f59"
      },
      "execution_count": 47,
      "outputs": [
        {
          "output_type": "execute_result",
          "data": {
            "text/plain": [
              "(60000, 28, 28)"
            ]
          },
          "metadata": {},
          "execution_count": 47
        }
      ]
    },
    {
      "cell_type": "code",
      "source": [
        "x_train=x_train.reshape(60000,784)\n",
        "x_test=x_test.reshape(10000,784)"
      ],
      "metadata": {
        "id": "TTP14ATE16wj"
      },
      "execution_count": 48,
      "outputs": []
    },
    {
      "cell_type": "code",
      "source": [
        "x_train.shape"
      ],
      "metadata": {
        "colab": {
          "base_uri": "https://localhost:8080/"
        },
        "id": "wcdUbvW02aVk",
        "outputId": "a4c87bdf-b85d-4fcd-cae7-56b340249930"
      },
      "execution_count": 49,
      "outputs": [
        {
          "output_type": "execute_result",
          "data": {
            "text/plain": [
              "(60000, 784)"
            ]
          },
          "metadata": {},
          "execution_count": 49
        }
      ]
    },
    {
      "cell_type": "code",
      "source": [
        "x_train.max()"
      ],
      "metadata": {
        "colab": {
          "base_uri": "https://localhost:8080/"
        },
        "id": "N-3YL3TP2dPg",
        "outputId": "beb675f6-e91e-4415-e6b5-11f8baa47e8e"
      },
      "execution_count": 50,
      "outputs": [
        {
          "output_type": "execute_result",
          "data": {
            "text/plain": [
              "255"
            ]
          },
          "metadata": {},
          "execution_count": 50
        }
      ]
    },
    {
      "cell_type": "code",
      "source": [
        "x_train=x_train/255\n",
        "x_test=x_test/255"
      ],
      "metadata": {
        "id": "jwe2d8IH2iXY"
      },
      "execution_count": 51,
      "outputs": []
    },
    {
      "cell_type": "code",
      "source": [
        "x_train.max()"
      ],
      "metadata": {
        "colab": {
          "base_uri": "https://localhost:8080/"
        },
        "id": "9YuvlO5o2rW2",
        "outputId": "59d492ec-ca5a-4125-e596-e1e5aa1cac27"
      },
      "execution_count": 52,
      "outputs": [
        {
          "output_type": "execute_result",
          "data": {
            "text/plain": [
              "1.0"
            ]
          },
          "metadata": {},
          "execution_count": 52
        }
      ]
    },
    {
      "cell_type": "code",
      "source": [
        "import tensorflow.keras as keras\n",
        "num=10\n",
        "y_train=keras.utils.to_categorical(y_train,num)\n",
        "\n",
        "y_test=keras.utils.to_categorical(y_test,num)"
      ],
      "metadata": {
        "id": "Wke0dKOQ3HUA"
      },
      "execution_count": 53,
      "outputs": []
    },
    {
      "cell_type": "code",
      "source": [
        "from tensorflow.keras.models import Sequential\n",
        "model=Sequential()\n",
        "from tensorflow.keras.layers import Dense"
      ],
      "metadata": {
        "id": "9i3EYzIW6X3k"
      },
      "execution_count": 54,
      "outputs": []
    },
    {
      "cell_type": "code",
      "source": [
        "model.add(Dense(units=512,activation=\"relu\",input_shape=(784,)))"
      ],
      "metadata": {
        "id": "l-m6iYpN6C5F"
      },
      "execution_count": 55,
      "outputs": []
    },
    {
      "cell_type": "code",
      "source": [
        "model.add(Dense(units=512,activation=\"relu\"))\n",
        "model.add(Dense(units=10,activation=\"softmax\"))"
      ],
      "metadata": {
        "id": "sPN5tYeidKjC"
      },
      "execution_count": 56,
      "outputs": []
    },
    {
      "cell_type": "code",
      "source": [
        "model.compile(loss=\"categorical_crossentropy\",metrics=['accuracy'])"
      ],
      "metadata": {
        "id": "QsQCoigvdWAX"
      },
      "execution_count": 57,
      "outputs": []
    },
    {
      "cell_type": "code",
      "source": [
        "model.summary()"
      ],
      "metadata": {
        "colab": {
          "base_uri": "https://localhost:8080/"
        },
        "id": "0l4__K5FduIY",
        "outputId": "6ccc254d-a0c1-47be-e7be-36242e43cd2f"
      },
      "execution_count": 58,
      "outputs": [
        {
          "output_type": "stream",
          "name": "stdout",
          "text": [
            "Model: \"sequential_2\"\n",
            "_________________________________________________________________\n",
            " Layer (type)                Output Shape              Param #   \n",
            "=================================================================\n",
            " dense_10 (Dense)            (None, 512)               401920    \n",
            "                                                                 \n",
            " dense_11 (Dense)            (None, 512)               262656    \n",
            "                                                                 \n",
            " dense_12 (Dense)            (None, 10)                5130      \n",
            "                                                                 \n",
            "=================================================================\n",
            "Total params: 669706 (2.55 MB)\n",
            "Trainable params: 669706 (2.55 MB)\n",
            "Non-trainable params: 0 (0.00 Byte)\n",
            "_________________________________________________________________\n"
          ]
        }
      ]
    },
    {
      "cell_type": "code",
      "source": [
        "history=model.fit(x_train,y_train,epochs=3,verbose=1,validation_data=(x_test,y_test))"
      ],
      "metadata": {
        "colab": {
          "base_uri": "https://localhost:8080/"
        },
        "id": "se_bSnU5d0IR",
        "outputId": "15e37fd2-d0b1-4c00-d7e6-8f9fcf60e51a"
      },
      "execution_count": 60,
      "outputs": [
        {
          "output_type": "stream",
          "name": "stdout",
          "text": [
            "Epoch 1/3\n",
            "1875/1875 [==============================] - 20s 11ms/step - loss: 0.0461 - accuracy: 0.9869 - val_loss: 0.1000 - val_accuracy: 0.9767\n",
            "Epoch 2/3\n",
            "1875/1875 [==============================] - 20s 11ms/step - loss: 0.0376 - accuracy: 0.9897 - val_loss: 0.0966 - val_accuracy: 0.9791\n",
            "Epoch 3/3\n",
            "1875/1875 [==============================] - 20s 11ms/step - loss: 0.0317 - accuracy: 0.9916 - val_loss: 0.0915 - val_accuracy: 0.9824\n"
          ]
        }
      ]
    }
  ]
}